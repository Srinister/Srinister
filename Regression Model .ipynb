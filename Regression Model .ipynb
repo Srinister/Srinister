{
 "cells": [
  {
   "cell_type": "code",
   "execution_count": 2,
   "metadata": {
    "_cell_guid": "b1076dfc-b9ad-4769-8c92-a6c4dae69d19",
    "_uuid": "8f2839f25d086af736a60e9eeb907d3b93b6e0e5",
    "execution": {
     "iopub.execute_input": "2021-10-19T06:19:20.608661Z",
     "iopub.status.busy": "2021-10-19T06:19:20.608373Z",
     "iopub.status.idle": "2021-10-19T06:19:20.636505Z",
     "shell.execute_reply": "2021-10-19T06:19:20.635824Z",
     "shell.execute_reply.started": "2021-10-19T06:19:20.608631Z"
    }
   },
   "outputs": [
    {
     "data": {
      "text/html": [
       "<div>\n",
       "<style scoped>\n",
       "    .dataframe tbody tr th:only-of-type {\n",
       "        vertical-align: middle;\n",
       "    }\n",
       "\n",
       "    .dataframe tbody tr th {\n",
       "        vertical-align: top;\n",
       "    }\n",
       "\n",
       "    .dataframe thead th {\n",
       "        text-align: right;\n",
       "    }\n",
       "</style>\n",
       "<table border=\"1\" class=\"dataframe\">\n",
       "  <thead>\n",
       "    <tr style=\"text-align: right;\">\n",
       "      <th></th>\n",
       "      <th>price</th>\n",
       "      <th>area</th>\n",
       "      <th>bedrooms</th>\n",
       "      <th>bathrooms</th>\n",
       "      <th>stories</th>\n",
       "      <th>mainroad</th>\n",
       "      <th>guestroom</th>\n",
       "      <th>basement</th>\n",
       "      <th>hotwaterheating</th>\n",
       "      <th>airconditioning</th>\n",
       "      <th>parking</th>\n",
       "      <th>prefarea</th>\n",
       "      <th>furnishingstatus</th>\n",
       "    </tr>\n",
       "  </thead>\n",
       "  <tbody>\n",
       "    <tr>\n",
       "      <th>0</th>\n",
       "      <td>13300000</td>\n",
       "      <td>7420</td>\n",
       "      <td>4</td>\n",
       "      <td>2</td>\n",
       "      <td>3</td>\n",
       "      <td>yes</td>\n",
       "      <td>no</td>\n",
       "      <td>no</td>\n",
       "      <td>no</td>\n",
       "      <td>yes</td>\n",
       "      <td>2</td>\n",
       "      <td>yes</td>\n",
       "      <td>furnished</td>\n",
       "    </tr>\n",
       "    <tr>\n",
       "      <th>1</th>\n",
       "      <td>12250000</td>\n",
       "      <td>8960</td>\n",
       "      <td>4</td>\n",
       "      <td>4</td>\n",
       "      <td>4</td>\n",
       "      <td>yes</td>\n",
       "      <td>no</td>\n",
       "      <td>no</td>\n",
       "      <td>no</td>\n",
       "      <td>yes</td>\n",
       "      <td>3</td>\n",
       "      <td>no</td>\n",
       "      <td>furnished</td>\n",
       "    </tr>\n",
       "    <tr>\n",
       "      <th>2</th>\n",
       "      <td>12250000</td>\n",
       "      <td>9960</td>\n",
       "      <td>3</td>\n",
       "      <td>2</td>\n",
       "      <td>2</td>\n",
       "      <td>yes</td>\n",
       "      <td>no</td>\n",
       "      <td>yes</td>\n",
       "      <td>no</td>\n",
       "      <td>no</td>\n",
       "      <td>2</td>\n",
       "      <td>yes</td>\n",
       "      <td>semi-furnished</td>\n",
       "    </tr>\n",
       "    <tr>\n",
       "      <th>3</th>\n",
       "      <td>12215000</td>\n",
       "      <td>7500</td>\n",
       "      <td>4</td>\n",
       "      <td>2</td>\n",
       "      <td>2</td>\n",
       "      <td>yes</td>\n",
       "      <td>no</td>\n",
       "      <td>yes</td>\n",
       "      <td>no</td>\n",
       "      <td>yes</td>\n",
       "      <td>3</td>\n",
       "      <td>yes</td>\n",
       "      <td>furnished</td>\n",
       "    </tr>\n",
       "    <tr>\n",
       "      <th>4</th>\n",
       "      <td>11410000</td>\n",
       "      <td>7420</td>\n",
       "      <td>4</td>\n",
       "      <td>1</td>\n",
       "      <td>2</td>\n",
       "      <td>yes</td>\n",
       "      <td>yes</td>\n",
       "      <td>yes</td>\n",
       "      <td>no</td>\n",
       "      <td>yes</td>\n",
       "      <td>2</td>\n",
       "      <td>no</td>\n",
       "      <td>furnished</td>\n",
       "    </tr>\n",
       "  </tbody>\n",
       "</table>\n",
       "</div>"
      ],
      "text/plain": [
       "      price  area  bedrooms  bathrooms  stories mainroad guestroom basement  \\\n",
       "0  13300000  7420         4          2        3      yes        no       no   \n",
       "1  12250000  8960         4          4        4      yes        no       no   \n",
       "2  12250000  9960         3          2        2      yes        no      yes   \n",
       "3  12215000  7500         4          2        2      yes        no      yes   \n",
       "4  11410000  7420         4          1        2      yes       yes      yes   \n",
       "\n",
       "  hotwaterheating airconditioning  parking prefarea furnishingstatus  \n",
       "0              no             yes        2      yes        furnished  \n",
       "1              no             yes        3       no        furnished  \n",
       "2              no              no        2      yes   semi-furnished  \n",
       "3              no             yes        3      yes        furnished  \n",
       "4              no             yes        2       no        furnished  "
      ]
     },
     "execution_count": 2,
     "metadata": {},
     "output_type": "execute_result"
    }
   ],
   "source": [
    "#importing  the important libraries\n",
    "import pandas as pd\n",
    "import numpy as np\n",
    "#reading the input data \n",
    "df=pd.read_csv(r'C:\\Users\\srini\\Downloads/Housing.csv')\n",
    "#check the data\n",
    "df.head() "
   ]
  },
  {
   "cell_type": "code",
   "execution_count": 3,
   "metadata": {
    "execution": {
     "iopub.execute_input": "2021-10-19T06:19:20.638552Z",
     "iopub.status.busy": "2021-10-19T06:19:20.637819Z",
     "iopub.status.idle": "2021-10-19T06:19:20.671634Z",
     "shell.execute_reply": "2021-10-19T06:19:20.670795Z",
     "shell.execute_reply.started": "2021-10-19T06:19:20.638514Z"
    }
   },
   "outputs": [
    {
     "data": {
      "text/html": [
       "<div>\n",
       "<style scoped>\n",
       "    .dataframe tbody tr th:only-of-type {\n",
       "        vertical-align: middle;\n",
       "    }\n",
       "\n",
       "    .dataframe tbody tr th {\n",
       "        vertical-align: top;\n",
       "    }\n",
       "\n",
       "    .dataframe thead th {\n",
       "        text-align: right;\n",
       "    }\n",
       "</style>\n",
       "<table border=\"1\" class=\"dataframe\">\n",
       "  <thead>\n",
       "    <tr style=\"text-align: right;\">\n",
       "      <th></th>\n",
       "      <th>count</th>\n",
       "      <th>mean</th>\n",
       "      <th>std</th>\n",
       "      <th>min</th>\n",
       "      <th>25%</th>\n",
       "      <th>50%</th>\n",
       "      <th>75%</th>\n",
       "      <th>max</th>\n",
       "    </tr>\n",
       "  </thead>\n",
       "  <tbody>\n",
       "    <tr>\n",
       "      <th>price</th>\n",
       "      <td>545.0</td>\n",
       "      <td>4.766729e+06</td>\n",
       "      <td>1.870440e+06</td>\n",
       "      <td>1750000.0</td>\n",
       "      <td>3430000.0</td>\n",
       "      <td>4340000.0</td>\n",
       "      <td>5740000.0</td>\n",
       "      <td>13300000.0</td>\n",
       "    </tr>\n",
       "    <tr>\n",
       "      <th>area</th>\n",
       "      <td>545.0</td>\n",
       "      <td>5.150541e+03</td>\n",
       "      <td>2.170141e+03</td>\n",
       "      <td>1650.0</td>\n",
       "      <td>3600.0</td>\n",
       "      <td>4600.0</td>\n",
       "      <td>6360.0</td>\n",
       "      <td>16200.0</td>\n",
       "    </tr>\n",
       "    <tr>\n",
       "      <th>bedrooms</th>\n",
       "      <td>545.0</td>\n",
       "      <td>2.965138e+00</td>\n",
       "      <td>7.380639e-01</td>\n",
       "      <td>1.0</td>\n",
       "      <td>2.0</td>\n",
       "      <td>3.0</td>\n",
       "      <td>3.0</td>\n",
       "      <td>6.0</td>\n",
       "    </tr>\n",
       "    <tr>\n",
       "      <th>bathrooms</th>\n",
       "      <td>545.0</td>\n",
       "      <td>1.286239e+00</td>\n",
       "      <td>5.024696e-01</td>\n",
       "      <td>1.0</td>\n",
       "      <td>1.0</td>\n",
       "      <td>1.0</td>\n",
       "      <td>2.0</td>\n",
       "      <td>4.0</td>\n",
       "    </tr>\n",
       "    <tr>\n",
       "      <th>stories</th>\n",
       "      <td>545.0</td>\n",
       "      <td>1.805505e+00</td>\n",
       "      <td>8.674925e-01</td>\n",
       "      <td>1.0</td>\n",
       "      <td>1.0</td>\n",
       "      <td>2.0</td>\n",
       "      <td>2.0</td>\n",
       "      <td>4.0</td>\n",
       "    </tr>\n",
       "    <tr>\n",
       "      <th>parking</th>\n",
       "      <td>545.0</td>\n",
       "      <td>6.935780e-01</td>\n",
       "      <td>8.615858e-01</td>\n",
       "      <td>0.0</td>\n",
       "      <td>0.0</td>\n",
       "      <td>0.0</td>\n",
       "      <td>1.0</td>\n",
       "      <td>3.0</td>\n",
       "    </tr>\n",
       "  </tbody>\n",
       "</table>\n",
       "</div>"
      ],
      "text/plain": [
       "           count          mean           std        min        25%        50%  \\\n",
       "price      545.0  4.766729e+06  1.870440e+06  1750000.0  3430000.0  4340000.0   \n",
       "area       545.0  5.150541e+03  2.170141e+03     1650.0     3600.0     4600.0   \n",
       "bedrooms   545.0  2.965138e+00  7.380639e-01        1.0        2.0        3.0   \n",
       "bathrooms  545.0  1.286239e+00  5.024696e-01        1.0        1.0        1.0   \n",
       "stories    545.0  1.805505e+00  8.674925e-01        1.0        1.0        2.0   \n",
       "parking    545.0  6.935780e-01  8.615858e-01        0.0        0.0        0.0   \n",
       "\n",
       "                 75%         max  \n",
       "price      5740000.0  13300000.0  \n",
       "area          6360.0     16200.0  \n",
       "bedrooms         3.0         6.0  \n",
       "bathrooms        2.0         4.0  \n",
       "stories          2.0         4.0  \n",
       "parking          1.0         3.0  "
      ]
     },
     "execution_count": 3,
     "metadata": {},
     "output_type": "execute_result"
    }
   ],
   "source": [
    "#describe the data\n",
    "df.describe().T"
   ]
  },
  {
   "cell_type": "code",
   "execution_count": 4,
   "metadata": {
    "execution": {
     "iopub.execute_input": "2021-10-19T06:19:20.673021Z",
     "iopub.status.busy": "2021-10-19T06:19:20.672724Z",
     "iopub.status.idle": "2021-10-19T06:19:21.533552Z",
     "shell.execute_reply": "2021-10-19T06:19:21.532352Z",
     "shell.execute_reply.started": "2021-10-19T06:19:20.672987Z"
    }
   },
   "outputs": [
    {
     "data": {
      "image/png": "[encoded data removed]",
      "text/plain": [
       "<Figure size 432x288 with 1 Axes>"
      ]
     },
     "metadata": {
      "needs_background": "light"
     },
     "output_type": "display_data"
    },
    {
     "data": {
      "image/png": "[encoded data removed]",
      "text/plain": [
       "<Figure size 432x288 with 1 Axes>"
      ]
     },
     "metadata": {
      "needs_background": "light"
     },
     "output_type": "display_data"
    },
    {
     "data": {
      "image/png": "[encoded data removed]",
      "text/plain": [
       "<Figure size 432x288 with 1 Axes>"
      ]
     },
     "metadata": {
      "needs_background": "light"
     },
     "output_type": "display_data"
    },
    {
     "data": {
      "image/png": "[encoded data removed]",
      "text/plain": [
       "<Figure size 432x288 with 1 Axes>"
      ]
     },
     "metadata": {
      "needs_background": "light"
     },
     "output_type": "display_data"
    }
   ],
   "source": [
    "#visualise the data \n",
    "import matplotlib.pyplot as plt\n",
    "%matplotlib inline\n",
    "#using scatter plot\n",
    "def scatter_plot(x):\n",
    "    \n",
    "    plt.scatter(df['price'], df[x])\n",
    "    plt.title(x +' vs Price') #title of the graph\n",
    "    plt.xlabel('Price') #x-axis\n",
    "    plt.ylabel(x) #y-axis\n",
    "    plt.show()\n",
    "\n",
    "\n",
    "scatter_plot('area') \n",
    "scatter_plot('bedrooms') \n",
    "scatter_plot('bathrooms') \n",
    "scatter_plot('stories') "
   ]
  },
  {
   "cell_type": "code",
   "execution_count": 5,
   "metadata": {
    "execution": {
     "iopub.execute_input": "2021-10-19T06:19:21.535849Z",
     "iopub.status.busy": "2021-10-19T06:19:21.535597Z",
     "iopub.status.idle": "2021-10-19T06:19:21.541948Z",
     "shell.execute_reply": "2021-10-19T06:19:21.54127Z",
     "shell.execute_reply.started": "2021-10-19T06:19:21.53582Z"
    }
   },
   "outputs": [],
   "source": [
    "#define the input [x] and the output / prediction data\n",
    "#define the y first \n",
    "y=df['price']\n",
    "# now the input data \n",
    "x=df.drop(['price','mainroad',\n",
    "          'guestroom',\n",
    "          'basement',\n",
    "          'hotwaterheating',\n",
    "          'airconditioning',\n",
    "          'prefarea',\n",
    "          'furnishingstatus'], axis=1)"
   ]
  },
  {
   "cell_type": "code",
   "execution_count": 6,
   "metadata": {
    "execution": {
     "iopub.execute_input": "2021-10-19T06:19:21.543425Z",
     "iopub.status.busy": "2021-10-19T06:19:21.543042Z",
     "iopub.status.idle": "2021-10-19T06:19:21.56046Z",
     "shell.execute_reply": "2021-10-19T06:19:21.55987Z",
     "shell.execute_reply.started": "2021-10-19T06:19:21.543394Z"
    }
   },
   "outputs": [
    {
     "data": {
      "text/plain": [
       "((545, 5), (545,))"
      ]
     },
     "execution_count": 6,
     "metadata": {},
     "output_type": "execute_result"
    }
   ],
   "source": [
    "x.shape , y.shape"
   ]
  },
  {
   "cell_type": "code",
   "execution_count": 7,
   "metadata": {
    "execution": {
     "iopub.execute_input": "2021-10-19T06:19:21.561884Z",
     "iopub.status.busy": "2021-10-19T06:19:21.561551Z",
     "iopub.status.idle": "2021-10-19T06:19:21.576065Z",
     "shell.execute_reply": "2021-10-19T06:19:21.57534Z",
     "shell.execute_reply.started": "2021-10-19T06:19:21.561855Z"
    }
   },
   "outputs": [
    {
     "data": {
      "text/plain": [
       "area         int64\n",
       "bedrooms     int64\n",
       "bathrooms    int64\n",
       "stories      int64\n",
       "parking      int64\n",
       "dtype: object"
      ]
     },
     "execution_count": 7,
     "metadata": {},
     "output_type": "execute_result"
    }
   ],
   "source": [
    "x.dtypes"
   ]
  },
  {
   "cell_type": "code",
   "execution_count": 8,
   "metadata": {
    "execution": {
     "iopub.execute_input": "2021-10-19T06:19:21.577747Z",
     "iopub.status.busy": "2021-10-19T06:19:21.577356Z",
     "iopub.status.idle": "2021-10-19T06:19:21.597358Z",
     "shell.execute_reply": "2021-10-19T06:19:21.59663Z",
     "shell.execute_reply.started": "2021-10-19T06:19:21.577704Z"
    }
   },
   "outputs": [
    {
     "data": {
      "text/html": [
       "<div>\n",
       "<style scoped>\n",
       "    .dataframe tbody tr th:only-of-type {\n",
       "        vertical-align: middle;\n",
       "    }\n",
       "\n",
       "    .dataframe tbody tr th {\n",
       "        vertical-align: top;\n",
       "    }\n",
       "\n",
       "    .dataframe thead th {\n",
       "        text-align: right;\n",
       "    }\n",
       "</style>\n",
       "<table border=\"1\" class=\"dataframe\">\n",
       "  <thead>\n",
       "    <tr style=\"text-align: right;\">\n",
       "      <th></th>\n",
       "      <th>price</th>\n",
       "      <th>area</th>\n",
       "      <th>bedrooms</th>\n",
       "      <th>bathrooms</th>\n",
       "      <th>stories</th>\n",
       "      <th>parking</th>\n",
       "    </tr>\n",
       "  </thead>\n",
       "  <tbody>\n",
       "    <tr>\n",
       "      <th>price</th>\n",
       "      <td>1.000000</td>\n",
       "      <td>0.535997</td>\n",
       "      <td>0.366494</td>\n",
       "      <td>0.517545</td>\n",
       "      <td>0.420712</td>\n",
       "      <td>0.384394</td>\n",
       "    </tr>\n",
       "    <tr>\n",
       "      <th>area</th>\n",
       "      <td>0.535997</td>\n",
       "      <td>1.000000</td>\n",
       "      <td>0.151858</td>\n",
       "      <td>0.193820</td>\n",
       "      <td>0.083996</td>\n",
       "      <td>0.352980</td>\n",
       "    </tr>\n",
       "    <tr>\n",
       "      <th>bedrooms</th>\n",
       "      <td>0.366494</td>\n",
       "      <td>0.151858</td>\n",
       "      <td>1.000000</td>\n",
       "      <td>0.373930</td>\n",
       "      <td>0.408564</td>\n",
       "      <td>0.139270</td>\n",
       "    </tr>\n",
       "    <tr>\n",
       "      <th>bathrooms</th>\n",
       "      <td>0.517545</td>\n",
       "      <td>0.193820</td>\n",
       "      <td>0.373930</td>\n",
       "      <td>1.000000</td>\n",
       "      <td>0.326165</td>\n",
       "      <td>0.177496</td>\n",
       "    </tr>\n",
       "    <tr>\n",
       "      <th>stories</th>\n",
       "      <td>0.420712</td>\n",
       "      <td>0.083996</td>\n",
       "      <td>0.408564</td>\n",
       "      <td>0.326165</td>\n",
       "      <td>1.000000</td>\n",
       "      <td>0.045547</td>\n",
       "    </tr>\n",
       "    <tr>\n",
       "      <th>parking</th>\n",
       "      <td>0.384394</td>\n",
       "      <td>0.352980</td>\n",
       "      <td>0.139270</td>\n",
       "      <td>0.177496</td>\n",
       "      <td>0.045547</td>\n",
       "      <td>1.000000</td>\n",
       "    </tr>\n",
       "  </tbody>\n",
       "</table>\n",
       "</div>"
      ],
      "text/plain": [
       "              price      area  bedrooms  bathrooms   stories   parking\n",
       "price      1.000000  0.535997  0.366494   0.517545  0.420712  0.384394\n",
       "area       0.535997  1.000000  0.151858   0.193820  0.083996  0.352980\n",
       "bedrooms   0.366494  0.151858  1.000000   0.373930  0.408564  0.139270\n",
       "bathrooms  0.517545  0.193820  0.373930   1.000000  0.326165  0.177496\n",
       "stories    0.420712  0.083996  0.408564   0.326165  1.000000  0.045547\n",
       "parking    0.384394  0.352980  0.139270   0.177496  0.045547  1.000000"
      ]
     },
     "execution_count": 8,
     "metadata": {},
     "output_type": "execute_result"
    }
   ],
   "source": [
    "df.corr()"
   ]
  },
  {
   "cell_type": "code",
   "execution_count": 9,
   "metadata": {
    "execution": {
     "iopub.execute_input": "2021-10-19T06:19:21.598918Z",
     "iopub.status.busy": "2021-10-19T06:19:21.598554Z",
     "iopub.status.idle": "2021-10-19T06:19:21.611934Z",
     "shell.execute_reply": "2021-10-19T06:19:21.611265Z",
     "shell.execute_reply.started": "2021-10-19T06:19:21.598871Z"
    }
   },
   "outputs": [],
   "source": [
    "#now lets trin the model by using linear Regression \n",
    "from sklearn.linear_model import LinearRegression\n",
    "model=LinearRegression()"
   ]
  },
  {
   "cell_type": "code",
   "execution_count": 10,
   "metadata": {
    "execution": {
     "iopub.execute_input": "2021-10-19T06:19:21.613469Z",
     "iopub.status.busy": "2021-10-19T06:19:21.613217Z",
     "iopub.status.idle": "2021-10-19T06:19:21.626401Z",
     "shell.execute_reply": "2021-10-19T06:19:21.625303Z",
     "shell.execute_reply.started": "2021-10-19T06:19:21.613439Z"
    }
   },
   "outputs": [],
   "source": [
    "#now lets split the data into train and test \n",
    "from sklearn.model_selection import train_test_split\n",
    "x_train , x_test , y_train, y_test = train_test_split(x,y,test_size=0.2, random_state=2)"
   ]
  },
  {
   "cell_type": "code",
   "execution_count": 11,
   "metadata": {
    "execution": {
     "iopub.execute_input": "2021-10-19T06:19:21.629147Z",
     "iopub.status.busy": "2021-10-19T06:19:21.628865Z",
     "iopub.status.idle": "2021-10-19T06:19:21.63793Z",
     "shell.execute_reply": "2021-10-19T06:19:21.637307Z",
     "shell.execute_reply.started": "2021-10-19T06:19:21.629105Z"
    }
   },
   "outputs": [
    {
     "data": {
      "text/plain": [
       "((436, 5), (109, 5), (436,), (109,))"
      ]
     },
     "execution_count": 11,
     "metadata": {},
     "output_type": "execute_result"
    }
   ],
   "source": [
    "#lets check the shape of the data\n",
    "x_train.shape , x_test.shape , y_train.shape , y_test.shape"
   ]
  },
  {
   "cell_type": "code",
   "execution_count": 12,
   "metadata": {
    "execution": {
     "iopub.execute_input": "2021-10-19T06:19:21.639583Z",
     "iopub.status.busy": "2021-10-19T06:19:21.639186Z",
     "iopub.status.idle": "2021-10-19T06:19:21.660872Z",
     "shell.execute_reply": "2021-10-19T06:19:21.660244Z",
     "shell.execute_reply.started": "2021-10-19T06:19:21.639523Z"
    }
   },
   "outputs": [
    {
     "data": {
      "text/plain": [
       "(array([[-1.17687206,  0.03201512, -0.58376171,  0.20075855, -0.78680611],\n",
       "        [ 1.23991283, -1.36384432, -0.58376171, -0.93600416,  0.40020934],\n",
       "        [-0.90755979, -1.36384432, -0.58376171, -0.93600416, -0.78680611],\n",
       "        [ 0.7481252 ,  0.03201512, -0.58376171, -0.93600416, -0.78680611],\n",
       "        [-0.57267583,  0.03201512, -0.58376171,  0.20075855, -0.78680611]]),\n",
       " array([[-0.98672347,  0.10141207, -0.52339781,  0.32899363, -0.8871656 ],\n",
       "        [-0.65518355,  0.10141207, -0.52339781,  0.32899363,  1.28589171],\n",
       "        [-0.58102331, -1.1268008 , -0.52339781, -0.90756863, -0.8871656 ],\n",
       "        [-0.70753196, -1.1268008 , -0.52339781, -0.90756863,  0.19936306],\n",
       "        [ 0.36561041,  0.10141207, -0.52339781,  1.56555589, -0.8871656 ]]))"
      ]
     },
     "execution_count": 12,
     "metadata": {},
     "output_type": "execute_result"
    }
   ],
   "source": [
    "#lets scale the data\n",
    "from sklearn.preprocessing import StandardScaler\n",
    "scaler = StandardScaler()\n",
    "x_train=scaler.fit_transform(x_train)\n",
    "x_test=scaler.fit_transform(x_test)\n",
    "\n",
    "x_train[:5] , x_test[:5]"
   ]
  },
  {
   "cell_type": "code",
   "execution_count": 13,
   "metadata": {
    "execution": {
     "iopub.execute_input": "2021-10-19T06:19:21.66244Z",
     "iopub.status.busy": "2021-10-19T06:19:21.66185Z",
     "iopub.status.idle": "2021-10-19T06:19:21.677178Z",
     "shell.execute_reply": "2021-10-19T06:19:21.67642Z",
     "shell.execute_reply.started": "2021-10-19T06:19:21.662407Z"
    }
   },
   "outputs": [
    {
     "data": {
      "text/plain": [
       "LinearRegression()"
      ]
     },
     "execution_count": 13,
     "metadata": {},
     "output_type": "execute_result"
    }
   ],
   "source": [
    "#now train the model by using fit()\n",
    "model.fit(x_train,y_train)"
   ]
  },
  {
   "cell_type": "code",
   "execution_count": 14,
   "metadata": {
    "execution": {
     "iopub.execute_input": "2021-10-19T06:19:21.678896Z",
     "iopub.status.busy": "2021-10-19T06:19:21.678527Z",
     "iopub.status.idle": "2021-10-19T06:19:21.691177Z",
     "shell.execute_reply": "2021-10-19T06:19:21.690453Z",
     "shell.execute_reply.started": "2021-10-19T06:19:21.678864Z"
    }
   },
   "outputs": [
    {
     "data": {
      "text/plain": [
       "(0.5733121079158998, 0.5573094026886813)"
      ]
     },
     "execution_count": 14,
     "metadata": {},
     "output_type": "execute_result"
    }
   ],
   "source": [
    "#now calculate the score of the model by using model.score()\n",
    "#test score model.score(x_test, y_test)\n",
    "#train score model.score(x_train, y_train)\n",
    "model.score(x_test, y_test) , model.score(x_train, y_train)"
   ]
  },
  {
   "cell_type": "code",
   "execution_count": 15,
   "metadata": {
    "execution": {
     "iopub.execute_input": "2021-10-19T06:19:21.692789Z",
     "iopub.status.busy": "2021-10-19T06:19:21.692358Z",
     "iopub.status.idle": "2021-10-19T06:19:21.966695Z",
     "shell.execute_reply": "2021-10-19T06:19:21.965795Z",
     "shell.execute_reply.started": "2021-10-19T06:19:21.692758Z"
    }
   },
   "outputs": [
    {
     "data": {
      "text/plain": [
       "array([ 3560963.32807814,  4472202.44096529,  3199342.78535624,\n",
       "        3427662.69696299,  5164163.73030776,  4686292.07359677,\n",
       "        3620103.61196862,  3679701.94851529,  3600005.83036365,\n",
       "        4510304.01204599,  4575243.54274903,  3172289.38631994,\n",
       "        4497330.54766725,  4358121.49394967,  4905426.27179409,\n",
       "        6299926.82033819,  6344847.90500137,  4270935.92839485,\n",
       "        3053463.90881917,  4172639.35709626,  5125032.00432499,\n",
       "        4249730.3609607 ,  5320418.47843488,  5759522.34772424,\n",
       "        2853304.52008226,  2978915.06160801,  3236660.63749363,\n",
       "        4553623.20926505,  6382981.68294046,  3382855.39742242,\n",
       "        3814074.60035177,  2937186.91785438,  3520252.94392826,\n",
       "        5754939.65753112,  4646213.45623033,  6927458.38558522,\n",
       "        2941597.20947062,  6302327.46972264,  5025632.13190939,\n",
       "        3713737.49551334,  7635967.56894031,  4035917.80982674,\n",
       "        3046678.84479419,  5070809.9650469 ,  4091218.5887965 ,\n",
       "        3754337.65279007,  3600005.83036365,  3341829.12988082,\n",
       "        4076628.19397662,  4534706.87272639, 10926612.60825226,\n",
       "        5048703.85676049,  3291961.41646339,  3236660.63749363,\n",
       "        4854538.29160674,  4626392.09412724,  5802158.02420846,\n",
       "        4249560.46954999,  2883837.30819467,  6479759.40114203,\n",
       "        3009447.84972042,  3087389.22894407,  4240235.09404226,\n",
       "        7091778.24161085,  7189877.33144411,  4228300.25191062,\n",
       "        4040330.60860915,  4561081.76536019,  3783965.41533805,\n",
       "        5473082.41899693,  5527449.78826039,  5342327.76725159,\n",
       "        6284660.42628199,  4863810.86207979,  4662184.23366473,\n",
       "        6249889.21551005,  5878607.60232862,  4350431.40436026,\n",
       "       10380292.45600444,  5423807.00847309,  6293959.92481402,\n",
       "        3813706.96300864,  4478533.01058353,  3210540.64816363,\n",
       "        3392717.11006817,  3971488.0857313 ,  7227021.46945426,\n",
       "        6335160.5684785 ,  4500781.55260149,  4599188.35077323,\n",
       "        4046123.79000608,  5030978.3403981 ,  3391249.87039002,\n",
       "        8448589.74242498,  5400173.73150391,  5461884.55618954,\n",
       "        6262608.9682008 ,  4506012.5198847 ,  5629079.22703391,\n",
       "        3270901.84101025,  5696056.12211497,  3791568.64786384,\n",
       "        5349285.75131656,  3081961.17772408,  5275742.26841082,\n",
       "        3172202.52925632,  5535532.20055281,  4348030.75497582,\n",
       "        5357740.1532888 ])"
      ]
     },
     "execution_count": 15,
     "metadata": {},
     "output_type": "execute_result"
    }
   ],
   "source": [
    "model.predict(x_test)"
   ]
  },
  {
   "cell_type": "code",
   "execution_count": 17,
   "metadata": {
    "execution": {
     "iopub.execute_input": "2021-10-19T06:19:21.968228Z",
     "iopub.status.busy": "2021-10-19T06:19:21.96796Z",
     "iopub.status.idle": "2021-10-19T06:19:22.228038Z",
     "shell.execute_reply": "2021-10-19T06:19:22.227211Z",
     "shell.execute_reply.started": "2021-10-19T06:19:21.968197Z"
    }
   },
   "outputs": [
    {
     "data": {
      "text/plain": [
       "[<matplotlib.lines.Line2D at 0x21963153e20>]"
      ]
     },
     "execution_count": 17,
     "metadata": {},
     "output_type": "execute_result"
    },
    {
     "data": {
      "image/png": "[encoded data removed]",
      "text/plain": [
       "<Figure size 576x360 with 1 Axes>"
      ]
     },
     "metadata": {
      "needs_background": "light"
     },
     "output_type": "display_data"
    }
   ],
   "source": [
    "\n",
    "# Plotting y_test and y_pred to understand the spread\n",
    "\n",
    "fig = plt.figure(figsize=(8,5))\n",
    "y_pred= model.predict(x_test)\n",
    "plt.scatter(y_test, y_pred)\n",
    "plt.title('y_test vs y_pred', fontsize = 20)              # Plot heading \n",
    "plt.xlabel('y_test', fontsize = 18)                          # X-label\n",
    "plt.ylabel('y_pred', fontsize = 16)      \n",
    "plt.plot(y_test, y_test, color=\"r\")"
   ]
  },
  {
   "cell_type": "code",
   "execution_count": null,
   "metadata": {},
   "outputs": [],
   "source": []
  }
 ],
 "metadata": {
  "kernelspec": {
   "display_name": "Python 3",
   "language": "python",
   "name": "python3"
  },
  "language_info": {
   "codemirror_mode": {
    "name": "ipython",
    "version": 3
   },
   "file_extension": ".py",
   "mimetype": "text/x-python",
   "name": "python",
   "nbconvert_exporter": "python",
   "pygments_lexer": "ipython3",
   "version": "3.8.8"
  }
 },
 "nbformat": 4,
 "nbformat_minor": 4
}
